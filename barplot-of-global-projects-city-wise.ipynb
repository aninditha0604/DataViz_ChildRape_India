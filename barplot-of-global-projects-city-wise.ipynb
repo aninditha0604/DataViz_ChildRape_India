{
 "cells": [
  {
   "cell_type": "markdown",
   "id": "d47e2898",
   "metadata": {
    "papermill": {
     "duration": 0.004518,
     "end_time": "2022-10-29T18:13:11.309387",
     "exception": false,
     "start_time": "2022-10-29T18:13:11.304869",
     "status": "completed"
    },
    "tags": []
   },
   "source": [
    "Now it's time for you to demonstrate your new skills with a project of your own!\n",
    "\n",
    "In this exercise, you will work with a dataset of your choosing.  Once you've selected a dataset, you'll design and create your own plot to tell interesting stories behind the data!\n",
    "\n",
    "## Setup\n",
    "\n",
    "Run the next cell to import and configure the Python libraries that you need to complete the exercise."
   ]
  },
  {
   "cell_type": "markdown",
   "id": "862cc949",
   "metadata": {
    "papermill": {
     "duration": 0.00341,
     "end_time": "2022-10-29T18:13:11.316557",
     "exception": false,
     "start_time": "2022-10-29T18:13:11.313147",
     "status": "completed"
    },
    "tags": []
   },
   "source": [
    "Now it's time for you to demonstrate your new skills with a project of your own!\n",
    "\n",
    "In this exercise, you will work with a dataset of your choosing.  Once you've selected a dataset, you'll design and create your own plot to tell interesting stories behind the data!\n",
    "\n",
    "## Setup\n",
    "\n",
    "Run the next cell to import and configure the Python libraries that you need to complete the exercise."
   ]
  },
  {
   "cell_type": "markdown",
   "id": "9d3ad144",
   "metadata": {
    "papermill": {
     "duration": 0.003469,
     "end_time": "2022-10-29T18:13:11.323581",
     "exception": false,
     "start_time": "2022-10-29T18:13:11.320112",
     "status": "completed"
    },
    "tags": []
   },
   "source": [
    "Now it's time for you to demonstrate your new skills with a project of your own!\n",
    "\n",
    "In this exercise, you will work with a dataset of your choosing.  Once you've selected a dataset, you'll design and create your own plot to tell interesting stories behind the data!\n",
    "\n",
    "## Setup\n",
    "\n",
    "Run the next cell to import and configure the Python libraries that you need to complete the exercise."
   ]
  },
  {
   "cell_type": "code",
   "execution_count": 1,
   "id": "600b2469",
   "metadata": {
    "execution": {
     "iopub.execute_input": "2022-10-29T18:13:11.333620Z",
     "iopub.status.busy": "2022-10-29T18:13:11.332746Z",
     "iopub.status.idle": "2022-10-29T18:13:12.399818Z",
     "shell.execute_reply": "2022-10-29T18:13:12.398582Z"
    },
    "papermill": {
     "duration": 1.075587,
     "end_time": "2022-10-29T18:13:12.402850",
     "exception": false,
     "start_time": "2022-10-29T18:13:11.327263",
     "status": "completed"
    },
    "tags": []
   },
   "outputs": [
    {
     "name": "stdout",
     "output_type": "stream",
     "text": [
      "Setup Complete\n"
     ]
    }
   ],
   "source": [
    "import pandas as pd\n",
    "pd.plotting.register_matplotlib_converters()\n",
    "import matplotlib.pyplot as plt\n",
    "%matplotlib inline\n",
    "import seaborn as sns\n",
    "print(\"Setup Complete\")"
   ]
  },
  {
   "cell_type": "markdown",
   "id": "99df54e6",
   "metadata": {
    "papermill": {
     "duration": 0.003591,
     "end_time": "2022-10-29T18:13:12.410636",
     "exception": false,
     "start_time": "2022-10-29T18:13:12.407045",
     "status": "completed"
    },
    "tags": []
   },
   "source": [
    "The questions below will give you feedback on your work. Run the following cell to set up the feedback system."
   ]
  },
  {
   "cell_type": "code",
   "execution_count": 2,
   "id": "1537d1da",
   "metadata": {
    "execution": {
     "iopub.execute_input": "2022-10-29T18:13:12.420494Z",
     "iopub.status.busy": "2022-10-29T18:13:12.420129Z",
     "iopub.status.idle": "2022-10-29T18:13:12.466060Z",
     "shell.execute_reply": "2022-10-29T18:13:12.464678Z"
    },
    "papermill": {
     "duration": 0.053406,
     "end_time": "2022-10-29T18:13:12.467989",
     "exception": false,
     "start_time": "2022-10-29T18:13:12.414583",
     "status": "completed"
    },
    "tags": []
   },
   "outputs": [
    {
     "name": "stdout",
     "output_type": "stream",
     "text": [
      "Setup Complete\n"
     ]
    }
   ],
   "source": [
    "# Set up code checking\n",
    "from learntools.core import binder\n",
    "binder.bind(globals())\n",
    "from learntools.data_viz_to_coder.ex7 import *\n",
    "print(\"Setup Complete\")"
   ]
  },
  {
   "cell_type": "markdown",
   "id": "07eb6601",
   "metadata": {
    "papermill": {
     "duration": 0.003509,
     "end_time": "2022-10-29T18:13:12.475452",
     "exception": false,
     "start_time": "2022-10-29T18:13:12.471943",
     "status": "completed"
    },
    "tags": []
   },
   "source": [
    "## Step 1: Attach a dataset to the notebook\n",
    "\n",
    "Begin by selecting a CSV dataset from [Kaggle Datasets](https://www.kaggle.com/datasets).  If you're unsure how to do this, please revisit the instructions in the previous tutorial.\n",
    "\n",
    "Once you have selected a dataset, click on the **[+ Add data]** option in the top right corner.  This will generate a pop-up window that you can use to search for your chosen dataset.  \n",
    "\n",
    "![ex6_search_dataset](https://i.imgur.com/cIIWPUS.png)\n",
    "\n",
    "Once you have found the dataset, click on the **[Add]** button to attach it to the notebook.  You can check that it was successful by looking at the **Data** dropdown menu to the right of the notebook -- look for an **input** folder containing a subfolder that matches the name of the dataset.\n",
    "\n",
    "<center>\n",
    "<img src=\"https://i.imgur.com/nMYc1Nu.png\" width=30%><br/>\n",
    "</center>\n",
    "\n",
    "You can click on the carat to the left of the name of the dataset to double-check that it contains a CSV file.  For instance, the image below shows that the example dataset contains two CSV files: (1) **dc-wikia-data.csv**, and (2) **marvel-wikia-data.csv**.\n",
    "\n",
    "<center>\n",
    "<img src=\"https://i.imgur.com/B4sJkVA.png\" width=30%><br/>\n",
    "</center>\n",
    "\n",
    "Once you've uploaded a dataset with a CSV file, run the code cell below **without changes** to receive credit for your work!"
   ]
  },
  {
   "cell_type": "code",
   "execution_count": 3,
   "id": "32d1727a",
   "metadata": {
    "execution": {
     "iopub.execute_input": "2022-10-29T18:13:12.484461Z",
     "iopub.status.busy": "2022-10-29T18:13:12.483814Z",
     "iopub.status.idle": "2022-10-29T18:13:12.500872Z",
     "shell.execute_reply": "2022-10-29T18:13:12.499322Z"
    },
    "papermill": {
     "duration": 0.024074,
     "end_time": "2022-10-29T18:13:12.503209",
     "exception": false,
     "start_time": "2022-10-29T18:13:12.479135",
     "status": "completed"
    },
    "tags": []
   },
   "outputs": [
    {
     "data": {
      "application/javascript": [
       "parent.postMessage({\"jupyterEvent\": \"custom.exercise_interaction\", \"data\": {\"outcomeType\": 1, \"valueTowardsCompletion\": 0.25, \"interactionType\": 1, \"questionType\": 2, \"questionId\": \"1_AttachData\", \"learnToolsVersion\": \"0.3.4\", \"failureMessage\": \"\", \"exceptionClass\": \"\", \"trace\": \"\"}}, \"*\")"
      ],
      "text/plain": [
       "<IPython.core.display.Javascript object>"
      ]
     },
     "metadata": {},
     "output_type": "display_data"
    },
    {
     "data": {
      "text/markdown": [
       "<span style=\"color:#33cc33\">Correct:</span> \n",
       "\n"
      ],
      "text/plain": [
       "Correct: \n"
      ]
     },
     "metadata": {},
     "output_type": "display_data"
    }
   ],
   "source": [
    "# Check for a dataset with a CSV file\n",
    "step_1.check()"
   ]
  },
  {
   "cell_type": "markdown",
   "id": "4d98ff2e",
   "metadata": {
    "papermill": {
     "duration": 0.00368,
     "end_time": "2022-10-29T18:13:12.511188",
     "exception": false,
     "start_time": "2022-10-29T18:13:12.507508",
     "status": "completed"
    },
    "tags": []
   },
   "source": [
    "## Step 2: Specify the filepath\n",
    "\n",
    "Now that the dataset is attached to the notebook, you can find its filepath.  To do this, begin by clicking on the CSV file you'd like to use.  This will open the CSV file in a tab below the notebook.  You can find the filepath towards the top of this new tab.  \n",
    "\n",
    "![ex6_filepath](https://i.imgur.com/fgXQV47.png)\n",
    "\n",
    "After you find the filepath corresponding to your dataset, fill it in as the value for `my_filepath` in the code cell below, and run the code cell to check that you've provided a valid filepath.  For instance, in the case of this example dataset, we would set\n",
    "```\n",
    "my_filepath = \"../input/fivethirtyeight-comic-characters-dataset/dc-wikia-data.csv\"\n",
    "```  \n",
    "Note that **you must enclose the filepath in quotation marks**; otherwise, the code will return an error.\n",
    "\n",
    "Once you've entered the filepath, you can close the tab below the notebook by clicking on the **[X]** at the top of the tab."
   ]
  },
  {
   "cell_type": "code",
   "execution_count": 4,
   "id": "63a842e3",
   "metadata": {
    "execution": {
     "iopub.execute_input": "2022-10-29T18:13:12.520763Z",
     "iopub.status.busy": "2022-10-29T18:13:12.519899Z",
     "iopub.status.idle": "2022-10-29T18:13:12.527840Z",
     "shell.execute_reply": "2022-10-29T18:13:12.526692Z"
    },
    "papermill": {
     "duration": 0.015289,
     "end_time": "2022-10-29T18:13:12.530332",
     "exception": false,
     "start_time": "2022-10-29T18:13:12.515043",
     "status": "completed"
    },
    "tags": []
   },
   "outputs": [
    {
     "data": {
      "application/javascript": [
       "parent.postMessage({\"jupyterEvent\": \"custom.exercise_interaction\", \"data\": {\"outcomeType\": 1, \"valueTowardsCompletion\": 0.25, \"interactionType\": 1, \"questionType\": 2, \"questionId\": \"2_Filepath\", \"learnToolsVersion\": \"0.3.4\", \"failureMessage\": \"\", \"exceptionClass\": \"\", \"trace\": \"\"}}, \"*\")"
      ],
      "text/plain": [
       "<IPython.core.display.Javascript object>"
      ]
     },
     "metadata": {},
     "output_type": "display_data"
    },
    {
     "data": {
      "text/markdown": [
       "<span style=\"color:#33cc33\">Correct:</span> \n",
       "\n"
      ],
      "text/plain": [
       "Correct: \n"
      ]
     },
     "metadata": {},
     "output_type": "display_data"
    }
   ],
   "source": [
    "# Fill in the line below: Specify the path of the CSV file to read\n",
    "my_filepath = \"../input/climate-change-earth-surface-temperature-data/GlobalLandTemperaturesByCountry.csv\"\n",
    "\n",
    "# Check for a valid filepath to a CSV file in a dataset\n",
    "step_2.check()"
   ]
  },
  {
   "cell_type": "markdown",
   "id": "1e844b01",
   "metadata": {
    "papermill": {
     "duration": 0.004372,
     "end_time": "2022-10-29T18:13:12.539832",
     "exception": false,
     "start_time": "2022-10-29T18:13:12.535460",
     "status": "completed"
    },
    "tags": []
   },
   "source": [
    "## Step 3: Load the data\n",
    "\n",
    "Use the next code cell to load your data file into `my_data`.  Use the filepath that you specified in the previous step."
   ]
  },
  {
   "cell_type": "code",
   "execution_count": 5,
   "id": "eac216a1",
   "metadata": {
    "execution": {
     "iopub.execute_input": "2022-10-29T18:13:12.550387Z",
     "iopub.status.busy": "2022-10-29T18:13:12.549809Z",
     "iopub.status.idle": "2022-10-29T18:13:13.088714Z",
     "shell.execute_reply": "2022-10-29T18:13:13.087478Z"
    },
    "papermill": {
     "duration": 0.546841,
     "end_time": "2022-10-29T18:13:13.091147",
     "exception": false,
     "start_time": "2022-10-29T18:13:12.544306",
     "status": "completed"
    },
    "tags": []
   },
   "outputs": [
    {
     "data": {
      "application/javascript": [
       "parent.postMessage({\"jupyterEvent\": \"custom.exercise_interaction\", \"data\": {\"outcomeType\": 1, \"valueTowardsCompletion\": 0.25, \"interactionType\": 1, \"questionType\": 2, \"questionId\": \"3_LoadData\", \"learnToolsVersion\": \"0.3.4\", \"failureMessage\": \"\", \"exceptionClass\": \"\", \"trace\": \"\"}}, \"*\")"
      ],
      "text/plain": [
       "<IPython.core.display.Javascript object>"
      ]
     },
     "metadata": {},
     "output_type": "display_data"
    },
    {
     "data": {
      "text/markdown": [
       "<span style=\"color:#33cc33\">Correct:</span> \n",
       "\n"
      ],
      "text/plain": [
       "Correct: \n"
      ]
     },
     "metadata": {},
     "output_type": "display_data"
    }
   ],
   "source": [
    "# Fill in the line below: Read the file into a variable my_data\n",
    "my_data = pd.read_csv(my_filepath)\n",
    "\n",
    "# Check that a dataset has been uploaded into my_data\n",
    "step_3.check()"
   ]
  },
  {
   "cell_type": "markdown",
   "id": "5457a982",
   "metadata": {
    "papermill": {
     "duration": 0.004115,
     "end_time": "2022-10-29T18:13:13.100126",
     "exception": false,
     "start_time": "2022-10-29T18:13:13.096011",
     "status": "completed"
    },
    "tags": []
   },
   "source": [
    "**_After the code cell above is marked correct_**, run the code cell below without changes to view the first five rows of the data."
   ]
  },
  {
   "cell_type": "code",
   "execution_count": 6,
   "id": "40e08a80",
   "metadata": {
    "execution": {
     "iopub.execute_input": "2022-10-29T18:13:13.111005Z",
     "iopub.status.busy": "2022-10-29T18:13:13.110055Z",
     "iopub.status.idle": "2022-10-29T18:13:13.126602Z",
     "shell.execute_reply": "2022-10-29T18:13:13.125796Z"
    },
    "papermill": {
     "duration": 0.023813,
     "end_time": "2022-10-29T18:13:13.128349",
     "exception": false,
     "start_time": "2022-10-29T18:13:13.104536",
     "status": "completed"
    },
    "tags": []
   },
   "outputs": [
    {
     "data": {
      "text/html": [
       "<div>\n",
       "<style scoped>\n",
       "    .dataframe tbody tr th:only-of-type {\n",
       "        vertical-align: middle;\n",
       "    }\n",
       "\n",
       "    .dataframe tbody tr th {\n",
       "        vertical-align: top;\n",
       "    }\n",
       "\n",
       "    .dataframe thead th {\n",
       "        text-align: right;\n",
       "    }\n",
       "</style>\n",
       "<table border=\"1\" class=\"dataframe\">\n",
       "  <thead>\n",
       "    <tr style=\"text-align: right;\">\n",
       "      <th></th>\n",
       "      <th>dt</th>\n",
       "      <th>AverageTemperature</th>\n",
       "      <th>AverageTemperatureUncertainty</th>\n",
       "      <th>Country</th>\n",
       "    </tr>\n",
       "  </thead>\n",
       "  <tbody>\n",
       "    <tr>\n",
       "      <th>0</th>\n",
       "      <td>1743-11-01</td>\n",
       "      <td>4.384</td>\n",
       "      <td>2.294</td>\n",
       "      <td>Åland</td>\n",
       "    </tr>\n",
       "    <tr>\n",
       "      <th>1</th>\n",
       "      <td>1743-12-01</td>\n",
       "      <td>NaN</td>\n",
       "      <td>NaN</td>\n",
       "      <td>Åland</td>\n",
       "    </tr>\n",
       "    <tr>\n",
       "      <th>2</th>\n",
       "      <td>1744-01-01</td>\n",
       "      <td>NaN</td>\n",
       "      <td>NaN</td>\n",
       "      <td>Åland</td>\n",
       "    </tr>\n",
       "    <tr>\n",
       "      <th>3</th>\n",
       "      <td>1744-02-01</td>\n",
       "      <td>NaN</td>\n",
       "      <td>NaN</td>\n",
       "      <td>Åland</td>\n",
       "    </tr>\n",
       "    <tr>\n",
       "      <th>4</th>\n",
       "      <td>1744-03-01</td>\n",
       "      <td>NaN</td>\n",
       "      <td>NaN</td>\n",
       "      <td>Åland</td>\n",
       "    </tr>\n",
       "  </tbody>\n",
       "</table>\n",
       "</div>"
      ],
      "text/plain": [
       "           dt  AverageTemperature  AverageTemperatureUncertainty Country\n",
       "0  1743-11-01               4.384                          2.294   Åland\n",
       "1  1743-12-01                 NaN                            NaN   Åland\n",
       "2  1744-01-01                 NaN                            NaN   Åland\n",
       "3  1744-02-01                 NaN                            NaN   Åland\n",
       "4  1744-03-01                 NaN                            NaN   Åland"
      ]
     },
     "execution_count": 6,
     "metadata": {},
     "output_type": "execute_result"
    }
   ],
   "source": [
    "# Print the first five rows of the data\n",
    "my_data.head()"
   ]
  },
  {
   "cell_type": "markdown",
   "id": "0b130095",
   "metadata": {
    "papermill": {
     "duration": 0.004344,
     "end_time": "2022-10-29T18:13:13.138125",
     "exception": false,
     "start_time": "2022-10-29T18:13:13.133781",
     "status": "completed"
    },
    "tags": []
   },
   "source": [
    "## Step 4: Visualize the data\n",
    "\n",
    "Use the next code cell to create a figure that tells a story behind your dataset.  You can use any chart type (_line chart, bar chart, heatmap, etc_) of your choosing!"
   ]
  },
  {
   "cell_type": "code",
   "execution_count": 7,
   "id": "6a1488c0",
   "metadata": {
    "execution": {
     "iopub.execute_input": "2022-10-29T18:13:13.149288Z",
     "iopub.status.busy": "2022-10-29T18:13:13.148431Z",
     "iopub.status.idle": "2022-10-29T18:13:15.419890Z",
     "shell.execute_reply": "2022-10-29T18:13:15.418978Z"
    },
    "papermill": {
     "duration": 2.279239,
     "end_time": "2022-10-29T18:13:15.421898",
     "exception": false,
     "start_time": "2022-10-29T18:13:13.142659",
     "status": "completed"
    },
    "tags": []
   },
   "outputs": [
    {
     "data": {
      "text/plain": [
       "<AxesSubplot:title={'center':'Barplot of Global Temperatures by City'}, xlabel='AverageTemperature', ylabel='Density'>"
      ]
     },
     "execution_count": 7,
     "metadata": {},
     "output_type": "execute_result"
    },
    {
     "data": {
      "image/png": "[encoded data removed]",
      "text/plain": [
       "<Figure size 1008x432 with 1 Axes>"
      ]
     },
     "metadata": {
      "needs_background": "light"
     },
     "output_type": "display_data"
    }
   ],
   "source": [
    "plt.figure(figsize = (14, 6))\n",
    "plt.title(\"Barplot of Global Temperatures by City\")\n",
    "sns.kdeplot( x = my_data['AverageTemperature'], shade = \"True\")"
   ]
  },
  {
   "cell_type": "markdown",
   "id": "6986e7c0",
   "metadata": {
    "papermill": {
     "duration": 0.004838,
     "end_time": "2022-10-29T18:13:15.431984",
     "exception": false,
     "start_time": "2022-10-29T18:13:15.427146",
     "status": "completed"
    },
    "tags": []
   },
   "source": [
    "## Keep going\n",
    "\n",
    "Learn how to use your skills after completing the micro-course to create data visualizations in a **[final tutorial](https://www.kaggle.com/alexisbcook/creating-your-own-notebooks)**."
   ]
  },
  {
   "cell_type": "markdown",
   "id": "58a68a48",
   "metadata": {
    "papermill": {
     "duration": 0.004796,
     "end_time": "2022-10-29T18:13:15.441997",
     "exception": false,
     "start_time": "2022-10-29T18:13:15.437201",
     "status": "completed"
    },
    "tags": []
   },
   "source": [
    "---\n",
    "\n",
    "\n",
    "\n",
    "\n",
    "*Have questions or comments? Visit the [course discussion forum](https://www.kaggle.com/learn/data-visualization/discussion) to chat with other learners.*"
   ]
  }
 ],
 "metadata": {
  "kernelspec": {
   "display_name": "Python 3",
   "language": "python",
   "name": "python3"
  },
  "language_info": {
   "codemirror_mode": {
    "name": "ipython",
    "version": 3
   },
   "file_extension": ".py",
   "mimetype": "text/x-python",
   "name": "python",
   "nbconvert_exporter": "python",
   "pygments_lexer": "ipython3",
   "version": "3.7.12"
  },
  "papermill": {
   "default_parameters": {},
   "duration": 12.419922,
   "end_time": "2022-10-29T18:13:16.169504",
   "environment_variables": {},
   "exception": null,
   "input_path": "__notebook__.ipynb",
   "output_path": "__notebook__.ipynb",
   "parameters": {},
   "start_time": "2022-10-29T18:13:03.749582",
   "version": "2.3.4"
  }
 },
 "nbformat": 4,
 "nbformat_minor": 5
}
