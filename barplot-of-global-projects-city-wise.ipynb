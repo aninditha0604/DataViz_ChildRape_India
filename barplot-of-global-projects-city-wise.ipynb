{
 "cells": [
  {
   "cell_type": "markdown",
   "id": "d1b9498c",
   "metadata": {
    "papermill": {
     "duration": 0.004318,
     "end_time": "2022-10-30T21:37:14.549766",
     "exception": false,
     "start_time": "2022-10-30T21:37:14.545448",
     "status": "completed"
    },
    "tags": []
   },
   "source": [
    "Now it's time for you to demonstrate your new skills with a project of your own!\n",
    "\n",
    "In this exercise, you will work with a dataset of your choosing.  Once you've selected a dataset, you'll design and create your own plot to tell interesting stories behind the data!\n",
    "\n",
    "## Setup\n",
    "\n",
    "Run the next cell to import and configure the Python libraries that you need to complete the exercise."
   ]
  },
  {
   "cell_type": "markdown",
   "id": "a0434ed8",
   "metadata": {
    "papermill": {
     "duration": 0.003259,
     "end_time": "2022-10-30T21:37:14.556607",
     "exception": false,
     "start_time": "2022-10-30T21:37:14.553348",
     "status": "completed"
    },
    "tags": []
   },
   "source": [
    "Now it's time for you to demonstrate your new skills with a project of your own!\n",
    "\n",
    "In this exercise, you will work with a dataset of your choosing.  Once you've selected a dataset, you'll design and create your own plot to tell interesting stories behind the data!\n",
    "\n",
    "## Setup\n",
    "\n",
    "Run the next cell to import and configure the Python libraries that you need to complete the exercise."
   ]
  },
  {
   "cell_type": "markdown",
   "id": "4a41a75a",
   "metadata": {
    "papermill": {
     "duration": 0.003396,
     "end_time": "2022-10-30T21:37:14.563415",
     "exception": false,
     "start_time": "2022-10-30T21:37:14.560019",
     "status": "completed"
    },
    "tags": []
   },
   "source": [
    "Now it's time for you to demonstrate your new skills with a project of your own!\n",
    "\n",
    "In this exercise, you will work with a dataset of your choosing.  Once you've selected a dataset, you'll design and create your own plot to tell interesting stories behind the data!\n",
    "\n",
    "## Setup\n",
    "\n",
    "Run the next cell to import and configure the Python libraries that you need to complete the exercise."
   ]
  },
  {
   "cell_type": "code",
   "execution_count": 1,
   "id": "d585852c",
   "metadata": {
    "execution": {
     "iopub.execute_input": "2022-10-30T21:37:14.572417Z",
     "iopub.status.busy": "2022-10-30T21:37:14.571885Z",
     "iopub.status.idle": "2022-10-30T21:37:15.463496Z",
     "shell.execute_reply": "2022-10-30T21:37:15.462548Z"
    },
    "papermill": {
     "duration": 0.898717,
     "end_time": "2022-10-30T21:37:15.465564",
     "exception": false,
     "start_time": "2022-10-30T21:37:14.566847",
     "status": "completed"
    },
    "tags": []
   },
   "outputs": [
    {
     "name": "stdout",
     "output_type": "stream",
     "text": [
      "Setup Complete\n"
     ]
    }
   ],
   "source": [
    "import pandas as pd\n",
    "pd.plotting.register_matplotlib_converters()\n",
    "import matplotlib.pyplot as plt\n",
    "%matplotlib inline\n",
    "import seaborn as sns\n",
    "print(\"Setup Complete\")"
   ]
  },
  {
   "cell_type": "markdown",
   "id": "e112c8d8",
   "metadata": {
    "papermill": {
     "duration": 0.004013,
     "end_time": "2022-10-30T21:37:15.473472",
     "exception": false,
     "start_time": "2022-10-30T21:37:15.469459",
     "status": "completed"
    },
    "tags": []
   },
   "source": [
    "The questions below will give you feedback on your work. Run the following cell to set up the feedback system."
   ]
  },
  {
   "cell_type": "code",
   "execution_count": 2,
   "id": "31fd7a12",
   "metadata": {
    "execution": {
     "iopub.execute_input": "2022-10-30T21:37:15.483287Z",
     "iopub.status.busy": "2022-10-30T21:37:15.482374Z",
     "iopub.status.idle": "2022-10-30T21:37:15.519838Z",
     "shell.execute_reply": "2022-10-30T21:37:15.518801Z"
    },
    "papermill": {
     "duration": 0.044819,
     "end_time": "2022-10-30T21:37:15.522222",
     "exception": false,
     "start_time": "2022-10-30T21:37:15.477403",
     "status": "completed"
    },
    "tags": []
   },
   "outputs": [
    {
     "name": "stdout",
     "output_type": "stream",
     "text": [
      "Setup Complete\n"
     ]
    }
   ],
   "source": [
    "# Set up code checking\n",
    "from learntools.core import binder\n",
    "binder.bind(globals())\n",
    "from learntools.data_viz_to_coder.ex7 import *\n",
    "print(\"Setup Complete\")"
   ]
  },
  {
   "cell_type": "markdown",
   "id": "84c25a92",
   "metadata": {
    "papermill": {
     "duration": 0.003477,
     "end_time": "2022-10-30T21:37:15.530046",
     "exception": false,
     "start_time": "2022-10-30T21:37:15.526569",
     "status": "completed"
    },
    "tags": []
   },
   "source": [
    "## Step 1: Attach a dataset to the notebook\n",
    "\n",
    "Begin by selecting a CSV dataset from [Kaggle Datasets](https://www.kaggle.com/datasets).  If you're unsure how to do this, please revisit the instructions in the previous tutorial.\n",
    "\n",
    "Once you have selected a dataset, click on the **[+ Add data]** option in the top right corner.  This will generate a pop-up window that you can use to search for your chosen dataset.  \n",
    "\n",
    "![ex6_search_dataset](https://i.imgur.com/cIIWPUS.png)\n",
    "\n",
    "Once you have found the dataset, click on the **[Add]** button to attach it to the notebook.  You can check that it was successful by looking at the **Data** dropdown menu to the right of the notebook -- look for an **input** folder containing a subfolder that matches the name of the dataset.\n",
    "\n",
    "<center>\n",
    "<img src=\"https://i.imgur.com/nMYc1Nu.png\" width=30%><br/>\n",
    "</center>\n",
    "\n",
    "You can click on the carat to the left of the name of the dataset to double-check that it contains a CSV file.  For instance, the image below shows that the example dataset contains two CSV files: (1) **dc-wikia-data.csv**, and (2) **marvel-wikia-data.csv**.\n",
    "\n",
    "<center>\n",
    "<img src=\"https://i.imgur.com/B4sJkVA.png\" width=30%><br/>\n",
    "</center>\n",
    "\n",
    "Once you've uploaded a dataset with a CSV file, run the code cell below **without changes** to receive credit for your work!"
   ]
  },
  {
   "cell_type": "code",
   "execution_count": 3,
   "id": "e8185f10",
   "metadata": {
    "execution": {
     "iopub.execute_input": "2022-10-30T21:37:15.539166Z",
     "iopub.status.busy": "2022-10-30T21:37:15.538319Z",
     "iopub.status.idle": "2022-10-30T21:37:15.555248Z",
     "shell.execute_reply": "2022-10-30T21:37:15.554215Z"
    },
    "papermill": {
     "duration": 0.023281,
     "end_time": "2022-10-30T21:37:15.556962",
     "exception": false,
     "start_time": "2022-10-30T21:37:15.533681",
     "status": "completed"
    },
    "tags": []
   },
   "outputs": [
    {
     "data": {
      "application/javascript": [
       "parent.postMessage({\"jupyterEvent\": \"custom.exercise_interaction\", \"data\": {\"outcomeType\": 1, \"valueTowardsCompletion\": 0.25, \"interactionType\": 1, \"questionType\": 2, \"questionId\": \"1_AttachData\", \"learnToolsVersion\": \"0.3.4\", \"failureMessage\": \"\", \"exceptionClass\": \"\", \"trace\": \"\"}}, \"*\")"
      ],
      "text/plain": [
       "<IPython.core.display.Javascript object>"
      ]
     },
     "metadata": {},
     "output_type": "display_data"
    },
    {
     "data": {
      "text/markdown": [
       "<span style=\"color:#33cc33\">Correct:</span> \n",
       "\n"
      ],
      "text/plain": [
       "Correct: \n"
      ]
     },
     "metadata": {},
     "output_type": "display_data"
    }
   ],
   "source": [
    "# Check for a dataset with a CSV file\n",
    "step_1.check()"
   ]
  },
  {
   "cell_type": "markdown",
   "id": "f9170e36",
   "metadata": {
    "papermill": {
     "duration": 0.004005,
     "end_time": "2022-10-30T21:37:15.565327",
     "exception": false,
     "start_time": "2022-10-30T21:37:15.561322",
     "status": "completed"
    },
    "tags": []
   },
   "source": [
    "## Step 2: Specify the filepath\n",
    "\n",
    "Now that the dataset is attached to the notebook, you can find its filepath.  To do this, begin by clicking on the CSV file you'd like to use.  This will open the CSV file in a tab below the notebook.  You can find the filepath towards the top of this new tab.  \n",
    "\n",
    "![ex6_filepath](https://i.imgur.com/fgXQV47.png)\n",
    "\n",
    "After you find the filepath corresponding to your dataset, fill it in as the value for `my_filepath` in the code cell below, and run the code cell to check that you've provided a valid filepath.  For instance, in the case of this example dataset, we would set\n",
    "```\n",
    "my_filepath = \"../input/fivethirtyeight-comic-characters-dataset/dc-wikia-data.csv\"\n",
    "```  \n",
    "Note that **you must enclose the filepath in quotation marks**; otherwise, the code will return an error.\n",
    "\n",
    "Once you've entered the filepath, you can close the tab below the notebook by clicking on the **[X]** at the top of the tab."
   ]
  },
  {
   "cell_type": "code",
   "execution_count": 4,
   "id": "da8d656f",
   "metadata": {
    "execution": {
     "iopub.execute_input": "2022-10-30T21:37:15.574698Z",
     "iopub.status.busy": "2022-10-30T21:37:15.574349Z",
     "iopub.status.idle": "2022-10-30T21:37:15.581745Z",
     "shell.execute_reply": "2022-10-30T21:37:15.581160Z"
    },
    "papermill": {
     "duration": 0.013953,
     "end_time": "2022-10-30T21:37:15.583239",
     "exception": false,
     "start_time": "2022-10-30T21:37:15.569286",
     "status": "completed"
    },
    "tags": []
   },
   "outputs": [
    {
     "data": {
      "application/javascript": [
       "parent.postMessage({\"jupyterEvent\": \"custom.exercise_interaction\", \"data\": {\"outcomeType\": 1, \"valueTowardsCompletion\": 0.25, \"interactionType\": 1, \"questionType\": 2, \"questionId\": \"2_Filepath\", \"learnToolsVersion\": \"0.3.4\", \"failureMessage\": \"\", \"exceptionClass\": \"\", \"trace\": \"\"}}, \"*\")"
      ],
      "text/plain": [
       "<IPython.core.display.Javascript object>"
      ]
     },
     "metadata": {},
     "output_type": "display_data"
    },
    {
     "data": {
      "text/markdown": [
       "<span style=\"color:#33cc33\">Correct:</span> \n",
       "\n"
      ],
      "text/plain": [
       "Correct: \n"
      ]
     },
     "metadata": {},
     "output_type": "display_data"
    }
   ],
   "source": [
    "# Fill in the line below: Specify the path of the CSV file to read\n",
    "my_filepath = \"../input/climate-change-earth-surface-temperature-data/GlobalLandTemperaturesByCountry.csv\"\n",
    "\n",
    "# Check for a valid filepath to a CSV file in a dataset\n",
    "step_2.check()"
   ]
  },
  {
   "cell_type": "markdown",
   "id": "52a5bbf6",
   "metadata": {
    "papermill": {
     "duration": 0.003765,
     "end_time": "2022-10-30T21:37:15.591082",
     "exception": false,
     "start_time": "2022-10-30T21:37:15.587317",
     "status": "completed"
    },
    "tags": []
   },
   "source": [
    "## Step 3: Load the data\n",
    "\n",
    "Use the next code cell to load your data file into `my_data`.  Use the filepath that you specified in the previous step."
   ]
  },
  {
   "cell_type": "code",
   "execution_count": 5,
   "id": "1ac1d5b0",
   "metadata": {
    "execution": {
     "iopub.execute_input": "2022-10-30T21:37:15.600489Z",
     "iopub.status.busy": "2022-10-30T21:37:15.600175Z",
     "iopub.status.idle": "2022-10-30T21:37:16.080824Z",
     "shell.execute_reply": "2022-10-30T21:37:16.080064Z"
    },
    "papermill": {
     "duration": 0.487571,
     "end_time": "2022-10-30T21:37:16.082624",
     "exception": false,
     "start_time": "2022-10-30T21:37:15.595053",
     "status": "completed"
    },
    "tags": []
   },
   "outputs": [
    {
     "data": {
      "application/javascript": [
       "parent.postMessage({\"jupyterEvent\": \"custom.exercise_interaction\", \"data\": {\"outcomeType\": 1, \"valueTowardsCompletion\": 0.25, \"interactionType\": 1, \"questionType\": 2, \"questionId\": \"3_LoadData\", \"learnToolsVersion\": \"0.3.4\", \"failureMessage\": \"\", \"exceptionClass\": \"\", \"trace\": \"\"}}, \"*\")"
      ],
      "text/plain": [
       "<IPython.core.display.Javascript object>"
      ]
     },
     "metadata": {},
     "output_type": "display_data"
    },
    {
     "data": {
      "text/markdown": [
       "<span style=\"color:#33cc33\">Correct:</span> \n",
       "\n"
      ],
      "text/plain": [
       "Correct: \n"
      ]
     },
     "metadata": {},
     "output_type": "display_data"
    }
   ],
   "source": [
    "# Fill in the line below: Read the file into a variable my_data\n",
    "my_data = pd.read_csv(my_filepath)\n",
    "\n",
    "# Check that a dataset has been uploaded into my_data\n",
    "step_3.check()"
   ]
  },
  {
   "cell_type": "markdown",
   "id": "8f4d917d",
   "metadata": {
    "papermill": {
     "duration": 0.004158,
     "end_time": "2022-10-30T21:37:16.091434",
     "exception": false,
     "start_time": "2022-10-30T21:37:16.087276",
     "status": "completed"
    },
    "tags": []
   },
   "source": [
    "**_After the code cell above is marked correct_**, run the code cell below without changes to view the first five rows of the data."
   ]
  },
  {
   "cell_type": "code",
   "execution_count": 6,
   "id": "6d9cebd9",
   "metadata": {
    "execution": {
     "iopub.execute_input": "2022-10-30T21:37:16.102340Z",
     "iopub.status.busy": "2022-10-30T21:37:16.101388Z",
     "iopub.status.idle": "2022-10-30T21:37:16.119480Z",
     "shell.execute_reply": "2022-10-30T21:37:16.118559Z"
    },
    "papermill": {
     "duration": 0.02565,
     "end_time": "2022-10-30T21:37:16.121504",
     "exception": false,
     "start_time": "2022-10-30T21:37:16.095854",
     "status": "completed"
    },
    "tags": []
   },
   "outputs": [
    {
     "data": {
      "text/html": [
       "<div>\n",
       "<style scoped>\n",
       "    .dataframe tbody tr th:only-of-type {\n",
       "        vertical-align: middle;\n",
       "    }\n",
       "\n",
       "    .dataframe tbody tr th {\n",
       "        vertical-align: top;\n",
       "    }\n",
       "\n",
       "    .dataframe thead th {\n",
       "        text-align: right;\n",
       "    }\n",
       "</style>\n",
       "<table border=\"1\" class=\"dataframe\">\n",
       "  <thead>\n",
       "    <tr style=\"text-align: right;\">\n",
       "      <th></th>\n",
       "      <th>dt</th>\n",
       "      <th>AverageTemperature</th>\n",
       "      <th>AverageTemperatureUncertainty</th>\n",
       "      <th>Country</th>\n",
       "    </tr>\n",
       "  </thead>\n",
       "  <tbody>\n",
       "    <tr>\n",
       "      <th>0</th>\n",
       "      <td>1743-11-01</td>\n",
       "      <td>4.384</td>\n",
       "      <td>2.294</td>\n",
       "      <td>Åland</td>\n",
       "    </tr>\n",
       "    <tr>\n",
       "      <th>1</th>\n",
       "      <td>1743-12-01</td>\n",
       "      <td>NaN</td>\n",
       "      <td>NaN</td>\n",
       "      <td>Åland</td>\n",
       "    </tr>\n",
       "    <tr>\n",
       "      <th>2</th>\n",
       "      <td>1744-01-01</td>\n",
       "      <td>NaN</td>\n",
       "      <td>NaN</td>\n",
       "      <td>Åland</td>\n",
       "    </tr>\n",
       "    <tr>\n",
       "      <th>3</th>\n",
       "      <td>1744-02-01</td>\n",
       "      <td>NaN</td>\n",
       "      <td>NaN</td>\n",
       "      <td>Åland</td>\n",
       "    </tr>\n",
       "    <tr>\n",
       "      <th>4</th>\n",
       "      <td>1744-03-01</td>\n",
       "      <td>NaN</td>\n",
       "      <td>NaN</td>\n",
       "      <td>Åland</td>\n",
       "    </tr>\n",
       "  </tbody>\n",
       "</table>\n",
       "</div>"
      ],
      "text/plain": [
       "           dt  AverageTemperature  AverageTemperatureUncertainty Country\n",
       "0  1743-11-01               4.384                          2.294   Åland\n",
       "1  1743-12-01                 NaN                            NaN   Åland\n",
       "2  1744-01-01                 NaN                            NaN   Åland\n",
       "3  1744-02-01                 NaN                            NaN   Åland\n",
       "4  1744-03-01                 NaN                            NaN   Åland"
      ]
     },
     "execution_count": 6,
     "metadata": {},
     "output_type": "execute_result"
    }
   ],
   "source": [
    "# Print the first five rows of the data\n",
    "my_data.head()"
   ]
  },
  {
   "cell_type": "markdown",
   "id": "1c774e10",
   "metadata": {
    "papermill": {
     "duration": 0.004356,
     "end_time": "2022-10-30T21:37:16.131370",
     "exception": false,
     "start_time": "2022-10-30T21:37:16.127014",
     "status": "completed"
    },
    "tags": []
   },
   "source": [
    "## Step 4: Visualize the data\n",
    "\n",
    "Use the next code cell to create a figure that tells a story behind your dataset.  You can use any chart type (_line chart, bar chart, heatmap, etc_) of your choosing!"
   ]
  },
  {
   "cell_type": "code",
   "execution_count": 7,
   "id": "58d206cd",
   "metadata": {
    "execution": {
     "iopub.execute_input": "2022-10-30T21:37:16.142172Z",
     "iopub.status.busy": "2022-10-30T21:37:16.141814Z",
     "iopub.status.idle": "2022-10-30T21:37:18.351827Z",
     "shell.execute_reply": "2022-10-30T21:37:18.350818Z"
    },
    "papermill": {
     "duration": 2.217826,
     "end_time": "2022-10-30T21:37:18.353899",
     "exception": false,
     "start_time": "2022-10-30T21:37:16.136073",
     "status": "completed"
    },
    "tags": []
   },
   "outputs": [
    {
     "data": {
      "text/plain": [
       "<AxesSubplot:title={'center':'A KDE of Global Temperatures by City'}, xlabel='AverageTemperature', ylabel='Density'>"
      ]
     },
     "execution_count": 7,
     "metadata": {},
     "output_type": "execute_result"
    },
    {
     "data": {
      "image/png": "[encoded data removed]",
      "text/plain": [
       "<Figure size 1008x432 with 1 Axes>"
      ]
     },
     "metadata": {
      "needs_background": "light"
     },
     "output_type": "display_data"
    }
   ],
   "source": [
    "plt.figure(figsize = (14, 6))\n",
    "plt.title(\"A KDE of Global Temperatures by City\")\n",
    "sns.kdeplot( x = my_data['AverageTemperature'], shade = \"True\")"
   ]
  },
  {
   "cell_type": "markdown",
   "id": "ccdb9fc8",
   "metadata": {
    "papermill": {
     "duration": 0.004794,
     "end_time": "2022-10-30T21:37:18.363821",
     "exception": false,
     "start_time": "2022-10-30T21:37:18.359027",
     "status": "completed"
    },
    "tags": []
   },
   "source": [
    "## Keep going\n",
    "\n",
    "Learn how to use your skills after completing the micro-course to create data visualizations in a **[final tutorial](https://www.kaggle.com/alexisbcook/creating-your-own-notebooks)**."
   ]
  },
  {
   "cell_type": "markdown",
   "id": "efecb07f",
   "metadata": {
    "papermill": {
     "duration": 0.004857,
     "end_time": "2022-10-30T21:37:18.373899",
     "exception": false,
     "start_time": "2022-10-30T21:37:18.369042",
     "status": "completed"
    },
    "tags": []
   },
   "source": [
    "---\n",
    "\n",
    "\n",
    "\n",
    "\n",
    "*Have questions or comments? Visit the [course discussion forum](https://www.kaggle.com/learn/data-visualization/discussion) to chat with other learners.*"
   ]
  }
 ],
 "metadata": {
  "kernelspec": {
   "display_name": "Python 3",
   "language": "python",
   "name": "python3"
  },
  "language_info": {
   "codemirror_mode": {
    "name": "ipython",
    "version": 3
   },
   "file_extension": ".py",
   "mimetype": "text/x-python",
   "name": "python",
   "nbconvert_exporter": "python",
   "pygments_lexer": "ipython3",
   "version": "3.7.12"
  },
  "papermill": {
   "default_parameters": {},
   "duration": 11.306404,
   "end_time": "2022-10-30T21:37:19.001219",
   "environment_variables": {},
   "exception": null,
   "input_path": "__notebook__.ipynb",
   "output_path": "__notebook__.ipynb",
   "parameters": {},
   "start_time": "2022-10-30T21:37:07.694815",
   "version": "2.3.4"
  }
 },
 "nbformat": 4,
 "nbformat_minor": 5
}
