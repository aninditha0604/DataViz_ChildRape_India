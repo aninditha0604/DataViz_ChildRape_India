{
 "cells": [
  {
   "cell_type": "markdown",
   "id": "d3c11d83",
   "metadata": {
    "papermill": {
     "duration": 0.005966,
     "end_time": "2022-10-30T21:38:30.477287",
     "exception": false,
     "start_time": "2022-10-30T21:38:30.471321",
     "status": "completed"
    },
    "tags": []
   },
   "source": [
    "Now it's time for you to demonstrate your new skills with a project of your own!\n",
    "\n",
    "In this exercise, you will work with a dataset of your choosing.  Once you've selected a dataset, you'll design and create your own plot to tell interesting stories behind the data!\n",
    "\n",
    "## Setup\n",
    "\n",
    "Run the next cell to import and configure the Python libraries that you need to complete the exercise."
   ]
  },
  {
   "cell_type": "markdown",
   "id": "4093faca",
   "metadata": {
    "papermill": {
     "duration": 0.004369,
     "end_time": "2022-10-30T21:38:30.486626",
     "exception": false,
     "start_time": "2022-10-30T21:38:30.482257",
     "status": "completed"
    },
    "tags": []
   },
   "source": [
    "Now it's time for you to demonstrate your new skills with a project of your own!\n",
    "\n",
    "In this exercise, you will work with a dataset of your choosing.  Once you've selected a dataset, you'll design and create your own plot to tell interesting stories behind the data!\n",
    "\n",
    "## Setup\n",
    "\n",
    "Run the next cell to import and configure the Python libraries that you need to complete the exercise."
   ]
  },
  {
   "cell_type": "markdown",
   "id": "4471d2e1",
   "metadata": {
    "papermill": {
     "duration": 0.004458,
     "end_time": "2022-10-30T21:38:30.495427",
     "exception": false,
     "start_time": "2022-10-30T21:38:30.490969",
     "status": "completed"
    },
    "tags": []
   },
   "source": [
    "Now it's time for you to demonstrate your new skills with a project of your own!\n",
    "\n",
    "In this exercise, you will work with a dataset of your choosing.  Once you've selected a dataset, you'll design and create your own plot to tell interesting stories behind the data!\n",
    "\n",
    "## Setup\n",
    "\n",
    "Run the next cell to import and configure the Python libraries that you need to complete the exercise."
   ]
  },
  {
   "cell_type": "code",
   "execution_count": 1,
   "id": "ca93c48a",
   "metadata": {
    "execution": {
     "iopub.execute_input": "2022-10-30T21:38:30.506966Z",
     "iopub.status.busy": "2022-10-30T21:38:30.506149Z",
     "iopub.status.idle": "2022-10-30T21:38:31.728364Z",
     "shell.execute_reply": "2022-10-30T21:38:31.727125Z"
    },
    "papermill": {
     "duration": 1.232742,
     "end_time": "2022-10-30T21:38:31.732582",
     "exception": false,
     "start_time": "2022-10-30T21:38:30.499840",
     "status": "completed"
    },
    "tags": []
   },
   "outputs": [
    {
     "name": "stdout",
     "output_type": "stream",
     "text": [
      "Setup Complete\n"
     ]
    }
   ],
   "source": [
    "import pandas as pd\n",
    "pd.plotting.register_matplotlib_converters()\n",
    "import matplotlib.pyplot as plt\n",
    "%matplotlib inline\n",
    "import seaborn as sns\n",
    "print(\"Setup Complete\")"
   ]
  },
  {
   "cell_type": "markdown",
   "id": "5f9184f5",
   "metadata": {
    "papermill": {
     "duration": 0.007204,
     "end_time": "2022-10-30T21:38:31.747464",
     "exception": false,
     "start_time": "2022-10-30T21:38:31.740260",
     "status": "completed"
    },
    "tags": []
   },
   "source": [
    "The questions below will give you feedback on your work. Run the following cell to set up the feedback system."
   ]
  },
  {
   "cell_type": "code",
   "execution_count": 2,
   "id": "7064736f",
   "metadata": {
    "execution": {
     "iopub.execute_input": "2022-10-30T21:38:31.761234Z",
     "iopub.status.busy": "2022-10-30T21:38:31.760434Z",
     "iopub.status.idle": "2022-10-30T21:38:31.807694Z",
     "shell.execute_reply": "2022-10-30T21:38:31.806199Z"
    },
    "papermill": {
     "duration": 0.055842,
     "end_time": "2022-10-30T21:38:31.810415",
     "exception": false,
     "start_time": "2022-10-30T21:38:31.754573",
     "status": "completed"
    },
    "tags": []
   },
   "outputs": [
    {
     "name": "stdout",
     "output_type": "stream",
     "text": [
      "Setup Complete\n"
     ]
    }
   ],
   "source": [
    "# Set up code checking\n",
    "from learntools.core import binder\n",
    "binder.bind(globals())\n",
    "from learntools.data_viz_to_coder.ex7 import *\n",
    "print(\"Setup Complete\")"
   ]
  },
  {
   "cell_type": "markdown",
   "id": "53fb773b",
   "metadata": {
    "papermill": {
     "duration": 0.00409,
     "end_time": "2022-10-30T21:38:31.819248",
     "exception": false,
     "start_time": "2022-10-30T21:38:31.815158",
     "status": "completed"
    },
    "tags": []
   },
   "source": [
    "## Step 1: Attach a dataset to the notebook\n",
    "\n",
    "Begin by selecting a CSV dataset from [Kaggle Datasets](https://www.kaggle.com/datasets).  If you're unsure how to do this, please revisit the instructions in the previous tutorial.\n",
    "\n",
    "Once you have selected a dataset, click on the **[+ Add data]** option in the top right corner.  This will generate a pop-up window that you can use to search for your chosen dataset.  \n",
    "\n",
    "![ex6_search_dataset](https://i.imgur.com/cIIWPUS.png)\n",
    "\n",
    "Once you have found the dataset, click on the **[Add]** button to attach it to the notebook.  You can check that it was successful by looking at the **Data** dropdown menu to the right of the notebook -- look for an **input** folder containing a subfolder that matches the name of the dataset.\n",
    "\n",
    "<center>\n",
    "<img src=\"https://i.imgur.com/nMYc1Nu.png\" width=30%><br/>\n",
    "</center>\n",
    "\n",
    "You can click on the carat to the left of the name of the dataset to double-check that it contains a CSV file.  For instance, the image below shows that the example dataset contains two CSV files: (1) **dc-wikia-data.csv**, and (2) **marvel-wikia-data.csv**.\n",
    "\n",
    "<center>\n",
    "<img src=\"https://i.imgur.com/B4sJkVA.png\" width=30%><br/>\n",
    "</center>\n",
    "\n",
    "Once you've uploaded a dataset with a CSV file, run the code cell below **without changes** to receive credit for your work!"
   ]
  },
  {
   "cell_type": "code",
   "execution_count": 3,
   "id": "f3b60b73",
   "metadata": {
    "execution": {
     "iopub.execute_input": "2022-10-30T21:38:31.829456Z",
     "iopub.status.busy": "2022-10-30T21:38:31.829072Z",
     "iopub.status.idle": "2022-10-30T21:38:31.854869Z",
     "shell.execute_reply": "2022-10-30T21:38:31.853501Z"
    },
    "papermill": {
     "duration": 0.033733,
     "end_time": "2022-10-30T21:38:31.857244",
     "exception": false,
     "start_time": "2022-10-30T21:38:31.823511",
     "status": "completed"
    },
    "tags": []
   },
   "outputs": [
    {
     "data": {
      "application/javascript": [
       "parent.postMessage({\"jupyterEvent\": \"custom.exercise_interaction\", \"data\": {\"outcomeType\": 1, \"valueTowardsCompletion\": 0.25, \"interactionType\": 1, \"questionType\": 2, \"questionId\": \"1_AttachData\", \"learnToolsVersion\": \"0.3.4\", \"failureMessage\": \"\", \"exceptionClass\": \"\", \"trace\": \"\"}}, \"*\")"
      ],
      "text/plain": [
       "<IPython.core.display.Javascript object>"
      ]
     },
     "metadata": {},
     "output_type": "display_data"
    },
    {
     "data": {
      "text/markdown": [
       "<span style=\"color:#33cc33\">Correct:</span> \n",
       "\n"
      ],
      "text/plain": [
       "Correct: \n"
      ]
     },
     "metadata": {},
     "output_type": "display_data"
    }
   ],
   "source": [
    "# Check for a dataset with a CSV file\n",
    "step_1.check()"
   ]
  },
  {
   "cell_type": "markdown",
   "id": "09533a82",
   "metadata": {
    "papermill": {
     "duration": 0.004464,
     "end_time": "2022-10-30T21:38:31.866514",
     "exception": false,
     "start_time": "2022-10-30T21:38:31.862050",
     "status": "completed"
    },
    "tags": []
   },
   "source": [
    "## Step 2: Specify the filepath\n",
    "\n",
    "Now that the dataset is attached to the notebook, you can find its filepath.  To do this, begin by clicking on the CSV file you'd like to use.  This will open the CSV file in a tab below the notebook.  You can find the filepath towards the top of this new tab.  \n",
    "\n",
    "![ex6_filepath](https://i.imgur.com/fgXQV47.png)\n",
    "\n",
    "After you find the filepath corresponding to your dataset, fill it in as the value for `my_filepath` in the code cell below, and run the code cell to check that you've provided a valid filepath.  For instance, in the case of this example dataset, we would set\n",
    "```\n",
    "my_filepath = \"../input/fivethirtyeight-comic-characters-dataset/dc-wikia-data.csv\"\n",
    "```  \n",
    "Note that **you must enclose the filepath in quotation marks**; otherwise, the code will return an error.\n",
    "\n",
    "Once you've entered the filepath, you can close the tab below the notebook by clicking on the **[X]** at the top of the tab."
   ]
  },
  {
   "cell_type": "code",
   "execution_count": 4,
   "id": "d34ccf48",
   "metadata": {
    "execution": {
     "iopub.execute_input": "2022-10-30T21:38:31.877407Z",
     "iopub.status.busy": "2022-10-30T21:38:31.876995Z",
     "iopub.status.idle": "2022-10-30T21:38:31.886932Z",
     "shell.execute_reply": "2022-10-30T21:38:31.885472Z"
    },
    "papermill": {
     "duration": 0.018125,
     "end_time": "2022-10-30T21:38:31.889202",
     "exception": false,
     "start_time": "2022-10-30T21:38:31.871077",
     "status": "completed"
    },
    "tags": []
   },
   "outputs": [
    {
     "data": {
      "application/javascript": [
       "parent.postMessage({\"jupyterEvent\": \"custom.exercise_interaction\", \"data\": {\"outcomeType\": 1, \"valueTowardsCompletion\": 0.25, \"interactionType\": 1, \"questionType\": 2, \"questionId\": \"2_Filepath\", \"learnToolsVersion\": \"0.3.4\", \"failureMessage\": \"\", \"exceptionClass\": \"\", \"trace\": \"\"}}, \"*\")"
      ],
      "text/plain": [
       "<IPython.core.display.Javascript object>"
      ]
     },
     "metadata": {},
     "output_type": "display_data"
    },
    {
     "data": {
      "text/markdown": [
       "<span style=\"color:#33cc33\">Correct:</span> \n",
       "\n"
      ],
      "text/plain": [
       "Correct: \n"
      ]
     },
     "metadata": {},
     "output_type": "display_data"
    }
   ],
   "source": [
    "# Fill in the line below: Specify the path of the CSV file to read\n",
    "my_filepath = \"../input/climate-change-earth-surface-temperature-data/GlobalLandTemperaturesByCountry.csv\"\n",
    "\n",
    "# Check for a valid filepath to a CSV file in a dataset\n",
    "step_2.check()"
   ]
  },
  {
   "cell_type": "markdown",
   "id": "6fc401fd",
   "metadata": {
    "papermill": {
     "duration": 0.004612,
     "end_time": "2022-10-30T21:38:31.898833",
     "exception": false,
     "start_time": "2022-10-30T21:38:31.894221",
     "status": "completed"
    },
    "tags": []
   },
   "source": [
    "## Step 3: Load the data\n",
    "\n",
    "Use the next code cell to load your data file into `my_data`.  Use the filepath that you specified in the previous step."
   ]
  },
  {
   "cell_type": "code",
   "execution_count": 5,
   "id": "e73a9d6b",
   "metadata": {
    "execution": {
     "iopub.execute_input": "2022-10-30T21:38:31.910418Z",
     "iopub.status.busy": "2022-10-30T21:38:31.909970Z",
     "iopub.status.idle": "2022-10-30T21:38:32.846108Z",
     "shell.execute_reply": "2022-10-30T21:38:32.845073Z"
    },
    "papermill": {
     "duration": 0.944675,
     "end_time": "2022-10-30T21:38:32.848422",
     "exception": false,
     "start_time": "2022-10-30T21:38:31.903747",
     "status": "completed"
    },
    "tags": []
   },
   "outputs": [
    {
     "data": {
      "application/javascript": [
       "parent.postMessage({\"jupyterEvent\": \"custom.exercise_interaction\", \"data\": {\"outcomeType\": 1, \"valueTowardsCompletion\": 0.25, \"interactionType\": 1, \"questionType\": 2, \"questionId\": \"3_LoadData\", \"learnToolsVersion\": \"0.3.4\", \"failureMessage\": \"\", \"exceptionClass\": \"\", \"trace\": \"\"}}, \"*\")"
      ],
      "text/plain": [
       "<IPython.core.display.Javascript object>"
      ]
     },
     "metadata": {},
     "output_type": "display_data"
    },
    {
     "data": {
      "text/markdown": [
       "<span style=\"color:#33cc33\">Correct:</span> \n",
       "\n"
      ],
      "text/plain": [
       "Correct: \n"
      ]
     },
     "metadata": {},
     "output_type": "display_data"
    }
   ],
   "source": [
    "# Fill in the line below: Read the file into a variable my_data\n",
    "my_data = pd.read_csv(my_filepath)\n",
    "\n",
    "# Check that a dataset has been uploaded into my_data\n",
    "step_3.check()"
   ]
  },
  {
   "cell_type": "markdown",
   "id": "6091d552",
   "metadata": {
    "papermill": {
     "duration": 0.004944,
     "end_time": "2022-10-30T21:38:32.858787",
     "exception": false,
     "start_time": "2022-10-30T21:38:32.853843",
     "status": "completed"
    },
    "tags": []
   },
   "source": [
    "**_After the code cell above is marked correct_**, run the code cell below without changes to view the first five rows of the data."
   ]
  },
  {
   "cell_type": "code",
   "execution_count": 6,
   "id": "301b6ccd",
   "metadata": {
    "execution": {
     "iopub.execute_input": "2022-10-30T21:38:32.871497Z",
     "iopub.status.busy": "2022-10-30T21:38:32.870420Z",
     "iopub.status.idle": "2022-10-30T21:38:32.890730Z",
     "shell.execute_reply": "2022-10-30T21:38:32.889689Z"
    },
    "papermill": {
     "duration": 0.02977,
     "end_time": "2022-10-30T21:38:32.893736",
     "exception": false,
     "start_time": "2022-10-30T21:38:32.863966",
     "status": "completed"
    },
    "tags": []
   },
   "outputs": [
    {
     "data": {
      "text/html": [
       "<div>\n",
       "<style scoped>\n",
       "    .dataframe tbody tr th:only-of-type {\n",
       "        vertical-align: middle;\n",
       "    }\n",
       "\n",
       "    .dataframe tbody tr th {\n",
       "        vertical-align: top;\n",
       "    }\n",
       "\n",
       "    .dataframe thead th {\n",
       "        text-align: right;\n",
       "    }\n",
       "</style>\n",
       "<table border=\"1\" class=\"dataframe\">\n",
       "  <thead>\n",
       "    <tr style=\"text-align: right;\">\n",
       "      <th></th>\n",
       "      <th>dt</th>\n",
       "      <th>AverageTemperature</th>\n",
       "      <th>AverageTemperatureUncertainty</th>\n",
       "      <th>Country</th>\n",
       "    </tr>\n",
       "  </thead>\n",
       "  <tbody>\n",
       "    <tr>\n",
       "      <th>0</th>\n",
       "      <td>1743-11-01</td>\n",
       "      <td>4.384</td>\n",
       "      <td>2.294</td>\n",
       "      <td>Åland</td>\n",
       "    </tr>\n",
       "    <tr>\n",
       "      <th>1</th>\n",
       "      <td>1743-12-01</td>\n",
       "      <td>NaN</td>\n",
       "      <td>NaN</td>\n",
       "      <td>Åland</td>\n",
       "    </tr>\n",
       "    <tr>\n",
       "      <th>2</th>\n",
       "      <td>1744-01-01</td>\n",
       "      <td>NaN</td>\n",
       "      <td>NaN</td>\n",
       "      <td>Åland</td>\n",
       "    </tr>\n",
       "    <tr>\n",
       "      <th>3</th>\n",
       "      <td>1744-02-01</td>\n",
       "      <td>NaN</td>\n",
       "      <td>NaN</td>\n",
       "      <td>Åland</td>\n",
       "    </tr>\n",
       "    <tr>\n",
       "      <th>4</th>\n",
       "      <td>1744-03-01</td>\n",
       "      <td>NaN</td>\n",
       "      <td>NaN</td>\n",
       "      <td>Åland</td>\n",
       "    </tr>\n",
       "  </tbody>\n",
       "</table>\n",
       "</div>"
      ],
      "text/plain": [
       "           dt  AverageTemperature  AverageTemperatureUncertainty Country\n",
       "0  1743-11-01               4.384                          2.294   Åland\n",
       "1  1743-12-01                 NaN                            NaN   Åland\n",
       "2  1744-01-01                 NaN                            NaN   Åland\n",
       "3  1744-02-01                 NaN                            NaN   Åland\n",
       "4  1744-03-01                 NaN                            NaN   Åland"
      ]
     },
     "execution_count": 6,
     "metadata": {},
     "output_type": "execute_result"
    }
   ],
   "source": [
    "# Print the first five rows of the data\n",
    "my_data.head()"
   ]
  },
  {
   "cell_type": "markdown",
   "id": "b335264e",
   "metadata": {
    "papermill": {
     "duration": 0.005335,
     "end_time": "2022-10-30T21:38:32.905405",
     "exception": false,
     "start_time": "2022-10-30T21:38:32.900070",
     "status": "completed"
    },
    "tags": []
   },
   "source": [
    "## Step 4: Visualize the data\n",
    "\n",
    "Use the next code cell to create a figure that tells a story behind your dataset.  You can use any chart type (_line chart, bar chart, heatmap, etc_) of your choosing!"
   ]
  },
  {
   "cell_type": "code",
   "execution_count": 7,
   "id": "ac8a9ded",
   "metadata": {
    "execution": {
     "iopub.execute_input": "2022-10-30T21:38:32.919059Z",
     "iopub.status.busy": "2022-10-30T21:38:32.917763Z",
     "iopub.status.idle": "2022-10-30T21:38:35.484760Z",
     "shell.execute_reply": "2022-10-30T21:38:35.483575Z"
    },
    "papermill": {
     "duration": 2.576497,
     "end_time": "2022-10-30T21:38:35.487218",
     "exception": false,
     "start_time": "2022-10-30T21:38:32.910721",
     "status": "completed"
    },
    "tags": []
   },
   "outputs": [
    {
     "data": {
      "text/plain": [
       "<AxesSubplot:title={'center':'A KDE plot of Global Temperatures by City'}, xlabel='AverageTemperature', ylabel='Density'>"
      ]
     },
     "execution_count": 7,
     "metadata": {},
     "output_type": "execute_result"
    },
    {
     "data": {
      "image/png": "[encoded data removed]",
      "text/plain": [
       "<Figure size 1008x432 with 1 Axes>"
      ]
     },
     "metadata": {
      "needs_background": "light"
     },
     "output_type": "display_data"
    }
   ],
   "source": [
    "plt.figure(figsize = (14, 6))\n",
    "plt.title(\"A KDE plot of Global Temperatures by City\")\n",
    "sns.kdeplot( x = my_data['AverageTemperature'], shade = \"True\")"
   ]
  },
  {
   "cell_type": "markdown",
   "id": "bc2b0891",
   "metadata": {
    "papermill": {
     "duration": 0.0065,
     "end_time": "2022-10-30T21:38:35.499592",
     "exception": false,
     "start_time": "2022-10-30T21:38:35.493092",
     "status": "completed"
    },
    "tags": []
   },
   "source": [
    "## Keep going\n",
    "\n",
    "Learn how to use your skills after completing the micro-course to create data visualizations in a **[final tutorial](https://www.kaggle.com/alexisbcook/creating-your-own-notebooks)**."
   ]
  },
  {
   "cell_type": "markdown",
   "id": "fa467493",
   "metadata": {
    "papermill": {
     "duration": 0.005686,
     "end_time": "2022-10-30T21:38:35.511475",
     "exception": false,
     "start_time": "2022-10-30T21:38:35.505789",
     "status": "completed"
    },
    "tags": []
   },
   "source": [
    "---\n",
    "\n",
    "\n",
    "\n",
    "\n",
    "*Have questions or comments? Visit the [course discussion forum](https://www.kaggle.com/learn/data-visualization/discussion) to chat with other learners.*"
   ]
  }
 ],
 "metadata": {
  "kernelspec": {
   "display_name": "Python 3",
   "language": "python",
   "name": "python3"
  },
  "language_info": {
   "codemirror_mode": {
    "name": "ipython",
    "version": 3
   },
   "file_extension": ".py",
   "mimetype": "text/x-python",
   "name": "python",
   "nbconvert_exporter": "python",
   "pygments_lexer": "ipython3",
   "version": "3.7.12"
  },
  "papermill": {
   "default_parameters": {},
   "duration": 14.572083,
   "end_time": "2022-10-30T21:38:36.239902",
   "environment_variables": {},
   "exception": null,
   "input_path": "__notebook__.ipynb",
   "output_path": "__notebook__.ipynb",
   "parameters": {},
   "start_time": "2022-10-30T21:38:21.667819",
   "version": "2.3.4"
  }
 },
 "nbformat": 4,
 "nbformat_minor": 5
}
